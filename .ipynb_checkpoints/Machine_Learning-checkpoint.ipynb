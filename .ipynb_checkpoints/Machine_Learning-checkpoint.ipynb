{
 "cells": [
  {
   "cell_type": "code",
   "execution_count": 1,
   "metadata": {},
   "outputs": [],
   "source": [
    "import pandas as pd\n",
    "import numpy as np\n",
    "import matplotlib.pyplot as plt\n",
    "import seaborn as sb\n",
    "import warnings\n",
    "warnings.filterwarnings(\"ignore\")"
   ]
  },
  {
   "cell_type": "markdown",
   "metadata": {},
   "source": [
    "## Load the Data"
   ]
  },
  {
   "cell_type": "code",
   "execution_count": 2,
   "metadata": {},
   "outputs": [
    {
     "name": "stdout",
     "output_type": "stream",
     "text": [
      "Index(['battery_power', 'blue', 'clock_speed', 'dual_sim', 'fc', 'four_g',\n",
      "       'int_memory', 'm_dep', 'mobile_wt', 'n_cores', 'pc', 'px_height',\n",
      "       'px_width', 'ram', 'sc_h', 'sc_w', 'talk_time', 'three_g',\n",
      "       'touch_screen', 'wifi', 'price_range'],\n",
      "      dtype='object')\n"
     ]
    }
   ],
   "source": [
    "df = pd.read_csv('train.csv')\n",
    "\n",
    "dfx = df[['ram','fc','pc', 'battery_power', 'px_height','px_width']]\n",
    "dfy = df['price_range']\n",
    "\n",
    "# print(dfx.head())\n",
    "# print(dfx['fc'].unique())\n",
    "# print(dfx['pc'].unique())\n",
    "# print(dfx['px_height'].max())\n",
    "# print(dfx['px_width'].max())\n",
    "# print(dfx['battery_power'].max())\n",
    "print(df.columns)"
   ]
  },
  {
   "cell_type": "markdown",
   "metadata": {},
   "source": [
    "## Splitting Data"
   ]
  },
  {
   "cell_type": "code",
   "execution_count": 3,
   "metadata": {},
   "outputs": [],
   "source": [
    "from sklearn.model_selection import train_test_split\n",
    "\n",
    "xtrain,xtest,ytrain,ytest = train_test_split(\n",
    "    dfx, dfy, test_size= 0.1, random_state = 10\n",
    ")"
   ]
  },
  {
   "cell_type": "markdown",
   "metadata": {},
   "source": [
    "## Model Machine Learning"
   ]
  },
  {
   "cell_type": "markdown",
   "metadata": {},
   "source": [
    "### Logistice Regression"
   ]
  },
  {
   "cell_type": "code",
   "execution_count": 4,
   "metadata": {},
   "outputs": [
    {
     "name": "stdout",
     "output_type": "stream",
     "text": [
      "Accuracy LGR:  76.0 %\n",
      "prediction LGR (y prediction):  3\n",
      "y real value:  3\n"
     ]
    }
   ],
   "source": [
    "from sklearn.linear_model import LogisticRegression\n",
    "model_LGR = LogisticRegression()\n",
    "model_LGR.fit(xtrain, ytrain)\n",
    "\n",
    "# accuracy\n",
    "acc_LGR = model_LGR.score(xtest,ytest)\n",
    "print('Accuracy LGR: ', acc_LGR * 100, '%')                         \n",
    "# print(model_LGR.coef_)\n",
    "\n",
    "# prediction of best price (Logistic Regression)\n",
    "pred_LGR = model_LGR.predict(xtest)\n",
    "print('prediction LGR (y prediction): ', pred_LGR[0])\n",
    "print('y real value: ', ytest.iloc[0])"
   ]
  },
  {
   "cell_type": "markdown",
   "metadata": {},
   "source": [
    "### Random Forest Classifier"
   ]
  },
  {
   "cell_type": "code",
   "execution_count": 5,
   "metadata": {},
   "outputs": [
    {
     "name": "stdout",
     "output_type": "stream",
     "text": [
      "Accuracy RF:  89.0 %\n",
      "prediction RF (y prediction):  3\n",
      "y real value:  3\n"
     ]
    }
   ],
   "source": [
    "from sklearn.ensemble import RandomForestClassifier\n",
    "model_RF = RandomForestClassifier(n_estimators=1000)\n",
    "model_RF.fit(xtrain,ytrain)\n",
    "\n",
    "# accuracy\n",
    "acc_RF = model_RF.score(xtest,ytest)\n",
    "print('Accuracy RF: ', acc_RF * 100, '%')                         \n",
    "# print(model_RF.feature_importances_)\n",
    "\n",
    "# prediction of best price (Random Forest Classifier)\n",
    "pred_RF = model_RF.predict(xtest)\n",
    "print('prediction RF (y prediction): ', pred_RF[0])\n",
    "print('y real value: ', ytest.iloc[0])"
   ]
  },
  {
   "cell_type": "markdown",
   "metadata": {},
   "source": [
    "### KNN (K-Nearest Neighbors)"
   ]
  },
  {
   "cell_type": "code",
   "execution_count": 6,
   "metadata": {},
   "outputs": [
    {
     "name": "stdout",
     "output_type": "stream",
     "text": [
      "Accuracy KNN:  91.0 %\n",
      "prediction KNN (y prediction):  3\n",
      "y real value:  3\n"
     ]
    }
   ],
   "source": [
    "from sklearn.neighbors import KNeighborsClassifier\n",
    "\n",
    "# menentukan jumlah neighbors\n",
    "# 1. sqrt(total jumlah data) = sqrt(150) = 12,2 = 13 / 11\n",
    "# 2. ambil yg ganjil +1 / -1\n",
    "\n",
    "def nNeighbors():\n",
    "    x = round(len(df) ** 0.5)\n",
    "    if x % 2 == 0:\n",
    "        return x + 1\n",
    "    else:\n",
    "        return x\n",
    "\n",
    "model_knn = KNeighborsClassifier(n_neighbors= nNeighbors())\n",
    "model_knn.fit(xtrain,ytrain)\n",
    "\n",
    "# accuracy\n",
    "acc_knn = model_knn.score(xtest,ytest)\n",
    "print('Accuracy KNN: ', acc_knn * 100, '%')                         \n",
    "# print(model_RF.feature_importances_)\n",
    "\n",
    "# prediction of best price (K-NEAREST NEIGHBORS)\n",
    "pred_knn = model_knn.predict(xtest)\n",
    "print('prediction KNN (y prediction): ', pred_knn[0])\n",
    "print('y real value: ', ytest.iloc[0])"
   ]
  },
  {
   "cell_type": "markdown",
   "metadata": {},
   "source": [
    "## Importing the Model "
   ]
  },
  {
   "cell_type": "markdown",
   "metadata": {},
   "source": [
    "since the best one is KNN model, the imported model is KNN model with joblib"
   ]
  },
  {
   "cell_type": "code",
   "execution_count": 8,
   "metadata": {},
   "outputs": [
    {
     "data": {
      "text/plain": [
       "['model_ml']"
      ]
     },
     "execution_count": 8,
     "metadata": {},
     "output_type": "execute_result"
    }
   ],
   "source": [
    "import joblib as jb\n",
    "jb.dump(model_knn,'model_ml')"
   ]
  }
 ],
 "metadata": {
  "kernelspec": {
   "display_name": "Python 3",
   "language": "python",
   "name": "python3"
  },
  "language_info": {
   "codemirror_mode": {
    "name": "ipython",
    "version": 3
   },
   "file_extension": ".py",
   "mimetype": "text/x-python",
   "name": "python",
   "nbconvert_exporter": "python",
   "pygments_lexer": "ipython3",
   "version": "3.7.3"
  }
 },
 "nbformat": 4,
 "nbformat_minor": 4
}
